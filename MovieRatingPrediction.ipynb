{
 "cells": [
  {
   "cell_type": "code",
   "execution_count": 1,
   "metadata": {},
   "outputs": [],
   "source": [
    "import pandas as pd\n",
    "import random\n",
    "from joblib import load\n"
   ]
  },
  {
   "cell_type": "code",
   "execution_count": 2,
   "metadata": {},
   "outputs": [],
   "source": [
    "# Function to find ONE HOT ENCODING for genres\n",
    "genre_list = ['Action', 'Adventure', 'Animation','Children','Comedy', 'Crime', 'Documentary', 'Drama', 'Fantasy', 'Film-Noir', 'Horror', 'Musical', 'Mystery', 'Romance', 'Sci-Fi', 'Thriller', 'War', 'Western']\n",
    "def one_hot_encoding(genres):\n",
    "    genres = genres.strip().split(\"|\")\n",
    "    OHE=[0]*len(genre_list)\n",
    "    for i in range(len(genre_list)):\n",
    "        if genre_list[i] in genres:\n",
    "            OHE[i] = 1      \n",
    "    return OHE"
   ]
  },
  {
   "cell_type": "code",
   "execution_count": 3,
   "metadata": {},
   "outputs": [],
   "source": [
    "# prepare model input\n",
    "def get_model_input(user_input):\n",
    "    OHE = one_hot_encoding(user_input[1])\n",
    "    model_input = user_input[:1]\n",
    "    model_input.extend(OHE)\n",
    "    return model_input"
   ]
  },
  {
   "cell_type": "code",
   "execution_count": 4,
   "metadata": {},
   "outputs": [],
   "source": [
    "movie_ratings = pd.read_csv(\".\\datasets\\movie_ratings.csv\", index_col = 0)\n",
    "#movie_ratings"
   ]
  },
  {
   "cell_type": "code",
   "execution_count": 5,
   "metadata": {},
   "outputs": [
    {
     "data": {
      "text/plain": [
       "21219"
      ]
     },
     "execution_count": 5,
     "metadata": {},
     "output_type": "execute_result"
    }
   ],
   "source": [
    "# Randomly pick a userId\n",
    "test_user = random.choice(movie_ratings['userId'])\n",
    "test_user"
   ]
  },
  {
   "cell_type": "code",
   "execution_count": 6,
   "metadata": {},
   "outputs": [],
   "source": [
    "# Filtering movies not rated by the test_user\n",
    "movies = movie_ratings.loc[(movie_ratings['userId'] != test_user)]['movieId']\n",
    "# Find list of unrated movies \n",
    "unrated_movies = set(movies.tolist())\n",
    "pred_movies = list(unrated_movies)\n",
    "#pred_movies"
   ]
  },
  {
   "cell_type": "code",
   "execution_count": 7,
   "metadata": {},
   "outputs": [],
   "source": [
    "# Randomly choose a movieId from movies not rated by test user\n",
    "predict_movie = random.choice(pred_movies)\n",
    "movies = pd.read_csv(r\"C:\\Data D\\Spring 2021\\Data Mining\\MovieLens\\Recommendation\\Project\\datasets\\movie_ratings.csv\")"
   ]
  },
  {
   "cell_type": "code",
   "execution_count": 8,
   "metadata": {},
   "outputs": [
    {
     "name": "stdout",
     "output_type": "stream",
     "text": [
      "Movie to predict rating:  2158\n"
     ]
    }
   ],
   "source": [
    "print(\"Movie to predict rating: \", predict_movie)"
   ]
  },
  {
   "cell_type": "code",
   "execution_count": 9,
   "metadata": {},
   "outputs": [],
   "source": [
    "# Get first row from the movie with the movieId chosen\n",
    "movie_row = movies.loc[movies['movieId'] == predict_movie][:1]\n",
    "# Extract year and genres from the row to pass to model\n",
    "year = movie_row['year'].to_string(index=False).replace(\" \", \"\")\n",
    "genre = movie_row['genres'].to_string(index=False).replace(\" \", \"\")\n",
    "movie_features = [int(year),genre]\n",
    "model_input = get_model_input(movie_features)"
   ]
  },
  {
   "cell_type": "markdown",
   "metadata": {},
   "source": [
    "# Final rating prediction is given by linear and ridge model\n",
    "Based on the evaluation metrics RMSE and R-squared, these two are better than ridge model"
   ]
  },
  {
   "cell_type": "code",
   "execution_count": 10,
   "metadata": {},
   "outputs": [
    {
     "name": "stdout",
     "output_type": "stream",
     "text": [
      "Rating prediction:  4.22\n"
     ]
    }
   ],
   "source": [
    "# Load linear regression model\n",
    "model= load('model/reg_pred_model.joblib') \n",
    "prediction = model.predict([model_input])\n",
    "print(\"Rating prediction: \",round(prediction[0][0],2))"
   ]
  },
  {
   "cell_type": "code",
   "execution_count": 11,
   "metadata": {},
   "outputs": [
    {
     "name": "stdout",
     "output_type": "stream",
     "text": [
      "Rating prediction:  4.22\n"
     ]
    }
   ],
   "source": [
    "# Load ridge model\n",
    "ridge_model = load('./model/ridge_pred_model.joblib')\n",
    "prediction = ridge_model.predict([model_input])\n",
    "print(\"Rating prediction: \",round(prediction[0][0],2))"
   ]
  },
  {
   "cell_type": "code",
   "execution_count": 12,
   "metadata": {},
   "outputs": [
    {
     "name": "stdout",
     "output_type": "stream",
     "text": [
      "Rating prediction:  4.23\n"
     ]
    }
   ],
   "source": [
    "# Load lasso model\n",
    "lasso_model = load('./model/lasso_pred_model.joblib')\n",
    "prediction = lasso_model.predict([model_input])\n",
    "print(\"Rating prediction: \",round(prediction[0],2))"
   ]
  },
  {
   "cell_type": "code",
   "execution_count": null,
   "metadata": {},
   "outputs": [],
   "source": []
  },
  {
   "cell_type": "code",
   "execution_count": null,
   "metadata": {},
   "outputs": [],
   "source": []
  }
 ],
 "metadata": {
  "kernelspec": {
   "display_name": "Python 3",
   "language": "python",
   "name": "python3"
  },
  "language_info": {
   "codemirror_mode": {
    "name": "ipython",
    "version": 3
   },
   "file_extension": ".py",
   "mimetype": "text/x-python",
   "name": "python",
   "nbconvert_exporter": "python",
   "pygments_lexer": "ipython3",
   "version": "3.7.9"
  }
 },
 "nbformat": 4,
 "nbformat_minor": 4
}
